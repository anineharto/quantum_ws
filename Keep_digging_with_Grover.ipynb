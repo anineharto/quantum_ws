{
 "cells": [
  {
   "cell_type": "code",
   "execution_count": 44,
   "metadata": {},
   "outputs": [],
   "source": [
    "import numpy as np\n",
    "import pandas as pd\n",
    "\n",
    "def uint4(int_or_string):\n",
    "    # Simulate 4-bit unsigned integer by masking 4 bits of numpy.unit8\n",
    "    unit8_type = np.uint8(int_or_string)\n",
    "    mask = np.uint8(2**4 - 1)\n",
    "    return(unit8_type & mask)\n",
    "\n",
    "def black_box_check(circuit, key, q):\n",
    "    # Black box oracle function to encode a winner entry in a dataset\n",
    "    # Inverts the phase of 'q' if 'key' and 'q' are matching, otherwise the 'q' remains unchanged.\n",
    "    # Note: the implementation of the oracle here is only for simulation purposes, and its details may not have \n",
    "    # any practical relevance. In practice, the oracle is generated systematically for each problem ecncoding \n",
    "    # a function (or dataset) that cannot be inverted (or efficiently searched).\n",
    "    data_frame = pd.read_csv(\"fruits.csv\")\n",
    "    data_dict = data_frame.set_index('name').T.to_dict('records')[0]\n",
    "    try:\n",
    "        winner = uint4(data_dict[key])\n",
    "    except:\n",
    "        raise ValueError('Invalid key! There is no ' + key)\n",
    "    if winner&2 == 0:\n",
    "        circuit.s(q[0])\n",
    "    if winner&1 == 0:\n",
    "        circuit.s(q[1])\n",
    "    circuit.h(q[1])\n",
    "    circuit.cx(q[0], q[1])\n",
    "    circuit.h(q[1])\n",
    "    if winner&2 == 0:\n",
    "        circuit.s(q[0])\n",
    "    if winner&1 == 0:\n",
    "        circuit.s(q[1])"
   ]
  },
  {
   "cell_type": "code",
   "execution_count": 8,
   "metadata": {},
   "outputs": [
    {
     "data": {
      "text/plain": [
       "{'apple': 1, 'banana': 2, 'orange': 4, 'strawberry': 3}"
      ]
     },
     "execution_count": 8,
     "metadata": {},
     "output_type": "execute_result"
    }
   ],
   "source": [
    "data_frame = pd.read_csv(\"fruits.csv\", delimiter=';')\n",
    "data_dict = data_frame.set_index('name').T.to_dict('records')[0]"
   ]
  }
 ],
 "metadata": {
  "kernelspec": {
   "display_name": "Python 3",
   "language": "python",
   "name": "python3"
  },
  "language_info": {
   "codemirror_mode": {
    "name": "ipython",
    "version": 3
   },
   "file_extension": ".py",
   "mimetype": "text/x-python",
   "name": "python",
   "nbconvert_exporter": "python",
   "pygments_lexer": "ipython3",
   "version": "3.7.4"
  }
 },
 "nbformat": 4,
 "nbformat_minor": 2
}
