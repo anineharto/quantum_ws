{
 "cells": [
  {
   "cell_type": "markdown",
   "metadata": {},
   "source": [
    "# How to manipulate qubits using Qiskit"
   ]
  },
  {
   "cell_type": "markdown",
   "metadata": {},
   "source": [
    "There are several ways to make a quantum computer, but the most common one is the universal quantum computer. Algorithms running on these computers are essentially a set of different gate operations imposed on qubits which together form a quantum circuit. We're therefore going to start by manipulating qubits by creating such circuits.\n",
    "\n",
    "As with bits, qubits can be either 0 or 1, but it can also be in something that we call a _superposition_ of 0 and 1. Actually, when it is in this superposition we say that it has a certain probability of being 0 and of being 1. It is when we observe the qubit that we force it to take a value, and then it will be either 0 or 1 depending on the probability. We can therefore think of a qubit as a coin spinning where heads equals 0 and tails equals 1. \n",
    "\n",
    "<div>\n",
    "<img src=\"pictures/qubit.png\" width=\"500\"/>\n",
    "</div>\n",
    "\n",
    "Quantum algorithms are built to ideally bring the probability of measuring the correct value that encodes the answer as close as possible to unity, and the probability of measuring the wrong answers as close as possible to zero. "
   ]
  },
  {
   "cell_type": "code",
   "execution_count": 2,
   "metadata": {},
   "outputs": [],
   "source": [
    "# Import the Qiskit SDK\n",
    "from qiskit import QuantumCircuit, ClassicalRegister, QuantumRegister\n",
    "from qiskit import Aer, IBMQ, execute\n",
    "from qiskit.tools.visualization import circuit_drawer, plot_histogram\n",
    "\n",
    "# This is only to disable extra warnings/messages\n",
    "import logging\n",
    "logging.getLogger(\"qiskit.tools.visualization\").setLevel(logging.ERROR)"
   ]
  },
  {
   "cell_type": "code",
   "execution_count": 51,
   "metadata": {},
   "outputs": [],
   "source": [
    "# Save your credentials (API Token) from https://quantumexperience.ng.bluemix.net/qx/account,\n",
    "# looking for \"Personal Access Token\" section.\n",
    "# NOTE: you need to save your credentials only once, so this cell should only be run once!\n",
    "APItoken = '11904784e5cf2d8854c1451e8dc6ba02017cb747eebee8414afaf5f0f23f49c6ff201a456eb0be417f228d72a23e07f5fa7dcf17e7c72d23bc341e569b859285'\n",
    "IBMQ.save_account(APItoken) \n",
    "\n",
    "# Authenticate with the IBM Q API in order to use online devices.\n",
    "# You need your credentials (API Token) to be already saved.\n",
    "IBMQ.load_account()"
   ]
  },
  {
   "cell_type": "markdown",
   "metadata": {},
   "source": [
    "## How to set up a circuit "
   ]
  },
  {
   "cell_type": "markdown",
   "metadata": {},
   "source": [
    "the figure below shows an empty circuit, where each horizontal line represents the evolution of a qubit with time proceeding from left to right. The five qubits are labeled in order as: q[0], q[1], q[2], q[3] and q[4]. The qubits are always initialized in state |0> (notation for the quantum state 0).\n",
    "<div>\n",
    "<img src=\"pictures/empty_circuit.png\" width=\"500\"/>\n",
    "</div>\n",
    "Classical bits -- used to store measurement results -- are indicated by the letter \"c\" and the number \"5\" indicates that there are five classical bits in the register being represented with the grey line."
   ]
  },
  {
   "cell_type": "code",
   "execution_count": 49,
   "metadata": {
    "scrolled": true
   },
   "outputs": [],
   "source": [
    "# The following code sets up an empty circuit with one qubit:\n",
    "# Create a Quantum Register with 1 qubit. The initial state is |0>\n",
    "q = QuantumRegister(2)\n",
    "# Create a Classical Register with 1 bit.\n",
    "c = ClassicalRegister(2)\n",
    "# Create a Quantum Circuit\n",
    "qc = QuantumCircuit(q, c)\n",
    "\n",
    "# Plot the circuit\n",
    "qc.draw(output='mpl')"
   ]
  },
  {
   "cell_type": "code",
   "execution_count": 50,
   "metadata": {
    "scrolled": true
   },
   "outputs": [],
   "source": [
    "# To add gates (do not worry about the type of gate we're implementing here) and measure the qubits do the following:\n",
    "# Place an X gate on the qubit wire. The registers are zero-indexed. \n",
    "qc.x(q[0])\n",
    "\n",
    "# Measure the qubits into the classical register\n",
    "qc.measure(q, c)\n",
    "\n",
    "# Draw the circuit\n",
    "qc.draw(output='mpl')"
   ]
  },
  {
   "cell_type": "markdown",
   "metadata": {},
   "source": [
    "##### Q: What does the black boxes at the end of our circuit mean?\n",
    "Now that the quantum circuit has been defined and drawn, let's execute it on a quantum simulator, running the circuit 100 times. Each run and measurement of the circuit is called a _shot_."
   ]
  },
  {
   "cell_type": "code",
   "execution_count": 52,
   "metadata": {},
   "outputs": [],
   "source": [
    "# Retrieving which simulator that we're going to use\n",
    "backend_sim = Aer.get_backend('qasm_simulator')\n",
    "\n",
    "# Execute the circuit on the simulator, running it 100 times.\n",
    "job_sim = execute(qc, backend_sim, shots=100)\n",
    "\n",
    "# Grab the results from the job.\n",
    "result_sim = job_sim.result()\n",
    "\n",
    "# Plot the results on a bar chart\n",
    "counts = result_sim.get_counts(qc)\n",
    "plot_histogram(counts)"
   ]
  },
  {
   "cell_type": "markdown",
   "metadata": {},
   "source": [
    "We see here that all runs resulted in our qubit being measured to 1. Now, you can try implementing your own circuits!"
   ]
  },
  {
   "cell_type": "markdown",
   "metadata": {},
   "source": [
    "## Hadamard gate (superposition)"
   ]
  },
  {
   "cell_type": "markdown",
   "metadata": {},
   "source": [
    "The Hadamard gate sets a qubit that is state 0 or state 1 into superposition, meaning it has now an equal probability of being either 0 or 1, like this:\n",
    "<div>\n",
    "<img src=\"pictures/hadamard.png\" width=\"500\"/>\n",
    "</div>\n",
    "\n",
    "\n",
    "##### Task 1: Create an empty circuit with a single qubit. Name the circuit _circ_."
   ]
  },
  {
   "cell_type": "code",
   "execution_count": null,
   "metadata": {},
   "outputs": [],
   "source": [
    "## ANSWER HERE ##"
   ]
  },
  {
   "cell_type": "code",
   "execution_count": 25,
   "metadata": {},
   "outputs": [],
   "source": [
    "## Run this cell afterwards to verify that you did it correctly ##\n",
    "if circ.n_qubits == 1 and not circ.data:\n",
    "    print('Good job!')\n",
    "else:\n",
    "    print('Something went wrong')"
   ]
  },
  {
   "cell_type": "markdown",
   "metadata": {},
   "source": [
    "##### Task 2: Impose the Hadamard gate on the qubit, and perform 100 shots. Visualize all measurements in a plot.\n",
    "(hint: replace the function ``x(q)`` with ``h(q)`` in the example circuit)"
   ]
  },
  {
   "cell_type": "code",
   "execution_count": null,
   "metadata": {},
   "outputs": [],
   "source": [
    "## ANSWER HERE ##"
   ]
  },
  {
   "cell_type": "code",
   "execution_count": 26,
   "metadata": {},
   "outputs": [],
   "source": [
    "## Run this cell afterwards to verify that you did it correctly ##\n",
    "if (counts['1'] < 100) & (counts['1'] > 0):\n",
    "    print('Awesome!')\n",
    "else:\n",
    "    print('Something went wrong')"
   ]
  },
  {
   "cell_type": "markdown",
   "metadata": {},
   "source": [
    "##### Q: What does this plot tell us? How certain can we be in our answer, and what can we do to become more certain, if the correct answer is 1?"
   ]
  },
  {
   "cell_type": "markdown",
   "metadata": {},
   "source": [
    "## CNOT gate (entanglement)"
   ]
  },
  {
   "cell_type": "markdown",
   "metadata": {},
   "source": [
    "The power of quantum algorithms rise from the fact that they leverage properties from quantum mechanics. One of these are _entanglement_ which is the extreme correlation that exist between qubits. Practically, if we have two entangled qubits we would only have to measure one of them in order to know the outcome of the other. \n",
    "\n",
    "In quantum computing, entanglement requires the use of quantum gates that operate on more than one qubit at a time. One such gate is the CNOT, which we'll use in conjunction with a Hadamard gate to maximally entangle two qubits. \n",
    "\n",
    "Simply put, imposing the CNOT gate on two qubits where the first qubit (also known as the reference qubit) is 0 will not change the value of the other qubit. However, if the value of the reference qubit is 1 then the value of the other qubit is flipped. If the reference qubit is in a superposition of 0 and 1 the outcome will be like this:\n",
    "\n",
    "<div>\n",
    "<img src=\"pictures/cnot.png\" width=\"600\"/>\n",
    "</div>\n",
    "\n",
    "##### Q: Can you explain why we will have the outcome above?"
   ]
  },
  {
   "cell_type": "markdown",
   "metadata": {},
   "source": [
    "##### Task 3: Create a circuit with two qubits, impose the hadamard gate on the first qubit and then the CNOT gate on both qubits\n",
    "(Hint: Use the function `cx(q_1, q_2)` to entangle two qubits, where q_1 is the reference qubit)"
   ]
  },
  {
   "cell_type": "code",
   "execution_count": null,
   "metadata": {},
   "outputs": [],
   "source": [
    "## ANSWER HERE ## "
   ]
  },
  {
   "cell_type": "code",
   "execution_count": 48,
   "metadata": {},
   "outputs": [],
   "source": [
    "if (counts['11'] < 100) & (counts['11'] > 0) & (counts['00'] < 100) & (counts['00'] > 0):\n",
    "    print('Awesome!')\n",
    "else:\n",
    "    print('Something went wrong')"
   ]
  },
  {
   "cell_type": "markdown",
   "metadata": {},
   "source": [
    "##### Q: Why can't we observe any instances where the qubits have different values (i.e 01 and 10)? "
   ]
  },
  {
   "cell_type": "markdown",
   "metadata": {},
   "source": [
    "## X gate (bitflip)\n",
    "The last gate that we're going to learn about is the X gate which flips the qubit. So, if the qubit has the value 0 the X gate flips it to 1 and vice versa. \n",
    "<div>\n",
    "<img src=\"pictures/x.png\" width=\"500\"/>\n",
    "</div>\n",
    "\n",
    "##### Q: How can we change the circuit we just made so that we have an equal probability of observing 01 and 10 instead of 00 and 11?"
   ]
  }
 ],
 "metadata": {
  "kernelspec": {
   "display_name": "Python 3",
   "language": "python",
   "name": "python3"
  },
  "language_info": {
   "codemirror_mode": {
    "name": "ipython",
    "version": 3
   },
   "file_extension": ".py",
   "mimetype": "text/x-python",
   "name": "python",
   "nbconvert_exporter": "python",
   "pygments_lexer": "ipython3",
   "version": "3.7.4"
  }
 },
 "nbformat": 4,
 "nbformat_minor": 2
}
