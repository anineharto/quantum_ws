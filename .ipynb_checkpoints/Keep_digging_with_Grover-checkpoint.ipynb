{
 "cells": [
  {
   "cell_type": "markdown",
   "metadata": {},
   "source": [
    "# Implementing Grover's algorithm\n",
    "Now that we've learned how to apply gates on qubits, we are going to put them together to create quantum algorithms! One of the most famous quantum algorithms is Grover's algorithm, and is used to find marked answers among many possible answers. For instance, finding the shelf number for bananas in a big warehouse. \n",
    "\n"
   ]
  },
  {
   "cell_type": "code",
   "execution_count": 1,
   "metadata": {},
   "outputs": [],
   "source": [
    "from quantum_functions import black_box_check\n",
    "from qiskit import ClassicalRegister, QuantumRegister, QuantumCircuit\n",
    "from qiskit import Aer, IBMQ, execute\n",
    "from qiskit.tools.visualization import circuit_drawer, plot_histogram\n",
    "\n",
    "import pandas as pd\n",
    "import numpy as np"
   ]
  },
  {
   "cell_type": "markdown",
   "metadata": {},
   "source": [
    "\n",
    "<div>\n",
    "<img src=\"pictures/black_box_grover.png\" width=\"700\"/>\n",
    "</div>\n",
    "<div>\n",
    "<img src=\"pictures/reflection_about_average.png\" width=\"400\"/>\n",
    "</div>\n"
   ]
  },
  {
   "cell_type": "markdown",
   "metadata": {},
   "source": []
  },
  {
   "cell_type": "code",
   "execution_count": 3,
   "metadata": {},
   "outputs": [],
   "source": [
    "def reflection_about_average(circuit, q):\n",
    "    # Reflection about average for amplitude amplification\n",
    "    circuit.h(q)   \n",
    "    circuit.x(q)\n",
    "    circuit.h(q[1])\n",
    "    circuit.cx(q[0], q[1])\n",
    "    circuit.h(q[1])\n",
    "    circuit.x(q)\n",
    "    circuit.h(q)"
   ]
  },
  {
   "cell_type": "code",
   "execution_count": 6,
   "metadata": {},
   "outputs": [
    {
     "name": "stdout",
     "output_type": "stream",
     "text": [
      "\n",
      "I found 'apple'! The shelf number is: 1\n"
     ]
    }
   ],
   "source": [
    "# Define reqisters and circuit\n",
    "NQ=4\n",
    "qreg = QuantumRegister(NQ)\n",
    "creg = ClassicalRegister(NQ)\n",
    "grover = QuantumCircuit(qreg, creg)\n",
    "\n",
    "# Initialization of quantum registers\n",
    "grover.h(qreg)\n",
    "\n",
    "# The name of fruit to search for its shelf number: \n",
    "# Options: apple, banana, orange, strawberry\n",
    "fruit_to_find = 'apple'\n",
    "\n",
    "# Grover's amplitude amplification (only one iteration here)\n",
    "# Complete the code here: you need to call oracle and reflection functions.\n",
    "# You can find the definition of these functions in the file: quantum_functions.py\n",
    "# The oracle is loaded as black_box_check(grover, fruit_to_find, qreg)\n",
    "#    It has three arguments: quantum circuit, property to search, and quantum register\n",
    "# The reflection function is loaded as reflection_about_average\n",
    "#    It has two arguments: quantum circuit and quantum register\n",
    "black_box_check(grover, fruit_to_find, qreg)\n",
    "reflection_about_average(grover, qreg)\n",
    "\n",
    "\n",
    "# Add Measurement\n",
    "grover.measure(qreg, creg)\n",
    "\n",
    "# Execute and collect results\n",
    "backend = Aer.get_backend('qasm_simulator')\n",
    "job_sim = execute(grover, backend, shots=10)\n",
    "sim_result = job_sim.result()\n",
    "\n",
    "# Print result counts\n",
    "#print(\"simulation: \", sim_result)\n",
    "#print(sim_result.get_counts(grover))\n",
    "\n",
    "shelf = int(max(sim_result.get_counts(grover)), 2)\n",
    "print(\"\")\n",
    "print(\"I found '{:}'! The shelf number is: {:}\".format(fruit_to_find, shelf))"
   ]
  }
 ],
 "metadata": {
  "kernelspec": {
   "display_name": "Python 3",
   "language": "python",
   "name": "python3"
  },
  "language_info": {
   "codemirror_mode": {
    "name": "ipython",
    "version": 3
   },
   "file_extension": ".py",
   "mimetype": "text/x-python",
   "name": "python",
   "nbconvert_exporter": "python",
   "pygments_lexer": "ipython3",
   "version": "3.7.4"
  }
 },
 "nbformat": 4,
 "nbformat_minor": 2
}
