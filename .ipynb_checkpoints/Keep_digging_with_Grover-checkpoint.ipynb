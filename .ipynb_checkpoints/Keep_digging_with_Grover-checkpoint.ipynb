{
 "cells": [
  {
   "cell_type": "markdown",
   "metadata": {},
   "source": [
    "# Implementing Grover's algorithm\n",
    "Now that we've learned how to apply gates on qubits, we are going to put them together to create quantum algorithms! One of the most famous quantum algorithms is Grover's algorithm, and is used to find marked answers among many possible answers. For instance, finding the shelf number for bananas in a big warehouse. \n",
    "\n",
    "See https://github.com/Qiskit/iqx-user-guide/blob/master/rst/full-user-guide/004-Quantum_Algorithms/070-Grover's_Algorithm.rst for inspiration\n"
   ]
  },
  {
   "cell_type": "code",
   "execution_count": 36,
   "metadata": {},
   "outputs": [],
   "source": [
    "from quantum_functions import black_box_check\n",
    "from qiskit import ClassicalRegister, QuantumRegister, QuantumCircuit\n",
    "from qiskit import Aer, IBMQ, execute\n",
    "from qiskit.tools.visualization import circuit_drawer, plot_histogram\n",
    "\n",
    "import pandas as pd\n",
    "import numpy as np"
   ]
  },
  {
   "cell_type": "code",
   "execution_count": 21,
   "metadata": {},
   "outputs": [
    {
     "data": {
      "text/html": [
       "<div>\n",
       "<style scoped>\n",
       "    .dataframe tbody tr th:only-of-type {\n",
       "        vertical-align: middle;\n",
       "    }\n",
       "\n",
       "    .dataframe tbody tr th {\n",
       "        vertical-align: top;\n",
       "    }\n",
       "\n",
       "    .dataframe thead th {\n",
       "        text-align: right;\n",
       "    }\n",
       "</style>\n",
       "<table border=\"1\" class=\"dataframe\">\n",
       "  <thead>\n",
       "    <tr style=\"text-align: right;\">\n",
       "      <th></th>\n",
       "      <th>name</th>\n",
       "      <th>shelf</th>\n",
       "    </tr>\n",
       "  </thead>\n",
       "  <tbody>\n",
       "    <tr>\n",
       "      <th>0</th>\n",
       "      <td>apple</td>\n",
       "      <td>1</td>\n",
       "    </tr>\n",
       "    <tr>\n",
       "      <th>1</th>\n",
       "      <td>banana</td>\n",
       "      <td>2</td>\n",
       "    </tr>\n",
       "    <tr>\n",
       "      <th>2</th>\n",
       "      <td>orange</td>\n",
       "      <td>0</td>\n",
       "    </tr>\n",
       "    <tr>\n",
       "      <th>3</th>\n",
       "      <td>strawberry</td>\n",
       "      <td>3</td>\n",
       "    </tr>\n",
       "  </tbody>\n",
       "</table>\n",
       "</div>"
      ],
      "text/plain": [
       "         name  shelf\n",
       "0       apple      1\n",
       "1      banana      2\n",
       "2      orange      0\n",
       "3  strawberry      3"
      ]
     },
     "execution_count": 21,
     "metadata": {},
     "output_type": "execute_result"
    }
   ],
   "source": [
    "pd.read_csv(\"data/fruits.csv\", sep=';')"
   ]
  },
  {
   "cell_type": "markdown",
   "metadata": {},
   "source": [
    "\n",
    "<div>\n",
    "<img src=\"pictures/black_box_grover.png\" width=\"700\"/>\n",
    "</div>\n",
    "<div>\n",
    "<img src=\"pictures/reflection_about_average.png\" width=\"400\"/>\n",
    "</div>\n"
   ]
  },
  {
   "cell_type": "code",
   "execution_count": 3,
   "metadata": {},
   "outputs": [],
   "source": [
    "def reflection_about_average(circuit, q):\n",
    "    # Reflection about average for amplitude amplification\n",
    "    circuit.h(q)   \n",
    "    circuit.x(q)\n",
    "    circuit.h(q[1])\n",
    "    circuit.cx(q[0], q[1])\n",
    "    circuit.h(q[1])\n",
    "    circuit.x(q)\n",
    "    circuit.h(q)"
   ]
  },
  {
   "cell_type": "code",
   "execution_count": 20,
   "metadata": {},
   "outputs": [
    {
     "data": {
      "image/png": "[encoded data removed]",
      "text/plain": [
       "<Figure size 960.792x204.68 with 1 Axes>"
      ]
     },
     "execution_count": 20,
     "metadata": {},
     "output_type": "execute_result"
    }
   ],
   "source": [
    "# Define reqisters and circuit\n",
    "NQ=2\n",
    "qreg = QuantumRegister(NQ)\n",
    "creg = ClassicalRegister(NQ)\n",
    "grover = QuantumCircuit(qreg, creg)\n",
    "\n",
    "# Initialization of quantum registers\n",
    "grover.h(qreg)\n",
    "\n",
    "# The name of fruit to search for its shelf number: \n",
    "# Options: apple, banana, orange, strawberry\n",
    "fruit_to_find = 'strawberry'\n",
    "\n",
    "# Grover's amplitude amplification (only one iteration here)\n",
    "# Complete the code here: you need to call oracle and reflection functions.\n",
    "# You can find the definition of these functions in the file: quantum_functions.py\n",
    "# The oracle is loaded as black_box_check(grover, fruit_to_find, qreg)\n",
    "#    It has three arguments: quantum circuit, property to search, and quantum register\n",
    "# The reflection function is loaded as reflection_about_average\n",
    "#    It has two arguments: quantum circuit and quantum register\n",
    "black_box_check(grover, fruit_to_find, qreg)\n",
    "reflection_about_average(grover, qreg)\n",
    "\n",
    "\n",
    "# Add Measurement\n",
    "grover.measure(qreg, creg)\n",
    "\n",
    "# Draw circuit\n",
    "grover.draw(output='mpl')"
   ]
  },
  {
   "cell_type": "code",
   "execution_count": 17,
   "metadata": {
    "scrolled": true
   },
   "outputs": [
    {
     "data": {
      "image/png": "[encoded data removed]",
      "text/plain": [
       "<Figure size 504x360 with 1 Axes>"
      ]
     },
     "execution_count": 17,
     "metadata": {},
     "output_type": "execute_result"
    }
   ],
   "source": [
    "# Execute and collect results\n",
    "backend = Aer.get_backend('qasm_simulator')\n",
    "job_sim = execute(grover, backend, shots=10)\n",
    "sim_result = job_sim.result()\n",
    "\n",
    "# Print result counts\n",
    "plot_histogram(sim_result.get_counts(grover))"
   ]
  },
  {
   "cell_type": "code",
   "execution_count": 18,
   "metadata": {
    "scrolled": true
   },
   "outputs": [
    {
     "name": "stdout",
     "output_type": "stream",
     "text": [
      "\n",
      "I found 'strawberry'! The shelf number is: 3\n"
     ]
    }
   ],
   "source": [
    "shelf = int(max(sim_result.get_counts(grover)), 2)\n",
    "print(\"\")\n",
    "print(\"I found '{:}'! The shelf number is: {:}\".format(fruit_to_find, shelf))"
   ]
  }
 ],
 "metadata": {
  "kernelspec": {
   "display_name": "Python 3",
   "language": "python",
   "name": "python3"
  },
  "language_info": {
   "codemirror_mode": {
    "name": "ipython",
    "version": 3
   },
   "file_extension": ".py",
   "mimetype": "text/x-python",
   "name": "python",
   "nbconvert_exporter": "python",
   "pygments_lexer": "ipython3",
   "version": "3.7.4"
  }
 },
 "nbformat": 4,
 "nbformat_minor": 2
}
